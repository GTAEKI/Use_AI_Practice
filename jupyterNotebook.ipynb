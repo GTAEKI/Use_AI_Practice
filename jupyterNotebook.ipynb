{
 "cells": [
  {
   "cell_type": "code",
   "execution_count": 45,
   "metadata": {},
   "outputs": [
    {
     "name": "stdout",
     "output_type": "stream",
     "text": [
      "Here is what I know:\n",
      "Title: The Godfather\n",
      "Genre: Crime, Drama\n",
      "Director: Francis Ford Coppola\n",
      "Main Cast: Marlon Brando, Al Pacino, James Caan\n",
      "Budget: $6-7 million\n",
      "Box Office Revenue: $245-286 million\n",
      "Small Synopsis: The aging patriarch of an organized crime dynasty transfers control of his clandestine empire to his reluctant son, sparking a series of violent power struggles within the family.\n",
      "Fun Fact: The Godfather is widely regarded as one of the greatest films in world cinema and has had a significant impact on popular culture."
     ]
    },
    {
     "data": {
      "text/plain": [
       "AIMessageChunk(content='Here is what I know:\\nTitle: The Godfather\\nGenre: Crime, Drama\\nDirector: Francis Ford Coppola\\nMain Cast: Marlon Brando, Al Pacino, James Caan\\nBudget: $6-7 million\\nBox Office Revenue: $245-286 million\\nSmall Synopsis: The aging patriarch of an organized crime dynasty transfers control of his clandestine empire to his reluctant son, sparking a series of violent power struggles within the family.\\nFun Fact: The Godfather is widely regarded as one of the greatest films in world cinema and has had a significant impact on popular culture.')"
      ]
     },
     "execution_count": 45,
     "metadata": {},
     "output_type": "execute_result"
    }
   ],
   "source": [
    "\n",
    "from langchain.chat_models import ChatOpenAI\n",
    "from langchain.prompts import ChatPromptTemplate\n",
    "from langchain.prompts import FewShotChatMessagePromptTemplate\n",
    "from langchain.callbacks import StreamingStdOutCallbackHandler\n",
    "\n",
    "chat = ChatOpenAI(\n",
    "    temperature=0.1,\n",
    "    streaming = True,\n",
    "    callbacks=[StreamingStdOutCallbackHandler()]\n",
    ")\n",
    "\n",
    "examples = [\n",
    "    {\n",
    "        \"movie_title\": \"Inception\",\n",
    "        \"answer\":\"\"\"\n",
    "Here is what I know:\n",
    "Genre: Science Fiction, Thriller\n",
    "Director: Christopher Nolan\n",
    "Main Cast: Leonardo DiCaprio, Joseph Gordon-Levitt, Ellen Page\n",
    "Budget: $160 million\n",
    "Box Office Revenue: $829.9 million\n",
    "Small Synopsis: A skilled thief enters people's dreams to steal secrets but faces his toughest mission yet—planting an idea instead of stealing one.\n",
    "\"\"\"\n",
    "    },\n",
    "    {\n",
    "        \"movie_title\": \"The Shawshank Redemption\",\n",
    "        \"answer\":\"\"\"\n",
    "Here is what I know:\n",
    "Genre: Drama\n",
    "Director: Frank Darabont\n",
    "Main Cast: Tim Robbins, Morgan Freeman, Bob Gunton\n",
    "Budget: $25 million\n",
    "Box Office Revenue: $73.3 million\n",
    "Small Synopsis: Wrongfully imprisoned, a banker forms a deep friendship with a fellow inmate and hatches a meticulous plan to escape from Shawshank Prison.\n",
    "\"\"\"\n",
    "    }\n",
    "]\n",
    "\n",
    "example_prompt = ChatPromptTemplate.from_messages([\n",
    "    (\"human\",\"What do you know about {movie_title}?\"),\n",
    "    (\"ai\",\"{answer}\")\n",
    "])\n",
    "\n",
    "few_shot_prompt = FewShotChatMessagePromptTemplate(\n",
    "    example_prompt=example_prompt,\n",
    "    examples=examples,\n",
    ")\n",
    "\n",
    "final_prompt = ChatPromptTemplate.from_messages([\n",
    "    (\"system\",\"You are Movie expert\"),\n",
    "    few_shot_prompt,\n",
    "    (\"human\",\"What do you know about {movie_title}?\")\n",
    "])\n",
    "\n",
    "chain = final_prompt | chat\n",
    "\n",
    "chain.invoke({\n",
    "    \"movie_title\":\"God father\"\n",
    "})\n",
    "\n"
   ]
  }
 ],
 "metadata": {
  "kernelspec": {
   "display_name": "env",
   "language": "python",
   "name": "python3"
  },
  "language_info": {
   "codemirror_mode": {
    "name": "ipython",
    "version": 3
   },
   "file_extension": ".py",
   "mimetype": "text/x-python",
   "name": "python",
   "nbconvert_exporter": "python",
   "pygments_lexer": "ipython3",
   "version": "3.11.11"
  }
 },
 "nbformat": 4,
 "nbformat_minor": 2
}
