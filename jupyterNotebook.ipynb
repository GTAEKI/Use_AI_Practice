{
 "cells": [
  {
   "cell_type": "code",
   "execution_count": 41,
   "metadata": {},
   "outputs": [
    {
     "name": "stdout",
     "output_type": "stream",
     "text": [
      "To make soju, start by fermenting rice, barley, or sweet potatoes with water and yeast. After fermentation, distill the mixture to increase the alcohol content. Finally, dilute the distilled liquid with water to reach the desired alcohol percentage before bottling. Mix flour, water, yeast, and salt together, knead until smooth, let rise, shape into a loaf, and bake until golden brown. \n",
      "\n",
      "Tokens Used: 122\n",
      "\tPrompt Tokens: 37\n",
      "\tCompletion Tokens: 85\n",
      "Successful Requests: 2\n",
      "Total Cost (USD): $0.0002255\n"
     ]
    }
   ],
   "source": [
    "\n",
    "from langchain.chat_models import ChatOpenAI\n",
    "from langchain.callbacks import get_openai_callback\n",
    "\n",
    "chat = ChatOpenAI(\n",
    "    temperature=0.1,\n",
    "    #streaming=True,\n",
    "    #callbacks=[\n",
    "    #    StreamingStdOutCallbackHandler(),\n",
    "    #],\n",
    ")\n",
    "\n",
    "with get_openai_callback() as usage:\n",
    "    a = chat.predict(\"What is the recipe for soju, just 3 sentences\")\n",
    "    b = chat.predict(\"What is the recipe for bread, just 1 sentence\")\n",
    "    print(a,b,\"\\n\")\n",
    "    print(usage)\n"
   ]
  }
 ],
 "metadata": {
  "kernelspec": {
   "display_name": "env",
   "language": "python",
   "name": "python3"
  },
  "language_info": {
   "codemirror_mode": {
    "name": "ipython",
    "version": 3
   },
   "file_extension": ".py",
   "mimetype": "text/x-python",
   "name": "python",
   "nbconvert_exporter": "python",
   "pygments_lexer": "ipython3",
   "version": "3.11.11"
  }
 },
 "nbformat": 4,
 "nbformat_minor": 2
}
