{
 "cells": [
  {
   "cell_type": "code",
   "execution_count": 8,
   "metadata": {},
   "outputs": [],
   "source": [
    "# ChatModel\n",
    "from langchain.chat_models import ChatOpenAI\n",
    "from langchain.prompts import ChatPromptTemplate\n",
    "from langchain.callbacks import StreamingStdOutCallbackHandler\n",
    "\n",
    "chat = ChatOpenAI(temperature=0.1,\n",
    "                  streaming = True,\n",
    "                  callbacks=[StreamingStdOutCallbackHandler()])\n",
    "\n",
    "haijin_prompt = ChatPromptTemplate.from_messages([\n",
    "    (\"system\", \"You write haiku in the most touching, concise, and impactful way in the world..\"),(\"human\", \"I want your {nation}haiku.\")\n",
    "])\n",
    "\n",
    "haijin_chain = haijin_prompt | chat"
   ]
  },
  {
   "cell_type": "code",
   "execution_count": 12,
   "metadata": {},
   "outputs": [
    {
     "name": "stdout",
     "output_type": "stream",
     "text": [
      "In the stillness, love\n",
      "whispers through the cherry trees\n",
      "heartbeats intertwine고요한 곳에서\\n사랑이 벚나무를 통해 속삭이며\\n심장 박동이 얽힌다\n",
      "\n",
      "이 시는 자연과 사랑의 아름다움을 잘 표현했습니다. 감정이 자연과 어우러져 아름다운 풍경을 만들어냅니다."
     ]
    },
    {
     "data": {
      "text/plain": [
       "AIMessageChunk(content='고요한 곳에서\\\\n사랑이 벚나무를 통해 속삭이며\\\\n심장 박동이 얽힌다\\n\\n이 시는 자연과 사랑의 아름다움을 잘 표현했습니다. 감정이 자연과 어우러져 아름다운 풍경을 만들어냅니다.')"
      ]
     },
     "execution_count": 12,
     "metadata": {},
     "output_type": "execute_result"
    }
   ],
   "source": [
    "kansha_prompt = ChatPromptTemplate.from_messages([\n",
    "    (\"system\",\"You, as a Korean, interpret haiku in the shortest and most precise way. Leave a review of at least 2 lines and at most 3 lines. The answer will be in Korean.\"),\n",
    "    (\"human\", \"{haiku}\")\n",
    "])\n",
    "\n",
    "kansha_chain = kansha_prompt | chat\n",
    "\n",
    "final_chain = {\"haiku\":haijin_chain} | kansha_chain\n",
    "\n",
    "final_chain.invoke({\n",
    "    \"nation\": \"korea\"\n",
    "})"
   ]
  }
 ],
 "metadata": {
  "kernelspec": {
   "display_name": "env",
   "language": "python",
   "name": "python3"
  },
  "language_info": {
   "codemirror_mode": {
    "name": "ipython",
    "version": 3
   },
   "file_extension": ".py",
   "mimetype": "text/x-python",
   "name": "python",
   "nbconvert_exporter": "python",
   "pygments_lexer": "ipython3",
   "version": "3.11.11"
  }
 },
 "nbformat": 4,
 "nbformat_minor": 2
}
