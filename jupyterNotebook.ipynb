{
 "cells": [
  {
   "cell_type": "code",
   "execution_count": 24,
   "metadata": {},
   "outputs": [],
   "source": [
    "from langchain.memory import ConversationSummaryBufferMemory\n",
    "from langchain.chat_models import ChatOpenAI\n",
    "from langchain.schema.runnable import RunnablePassthrough\n",
    "from langchain.prompts import ChatPromptTemplate, MessagesPlaceholder, FewShotChatMessagePromptTemplate\n",
    "from langchain.callbacks import StreamingStdOutCallbackHandler\n",
    "\n",
    "llm = ChatOpenAI(temperature = 0.1,\n",
    "                 streaming= True,\n",
    "                 callbacks=[StreamingStdOutCallbackHandler()]\n",
    "                 )\n",
    "\n",
    "examples = [\n",
    "    {\n",
    "        \"movie_title\": \"Top Gun\",\n",
    "        \"answer\": \"🛩️👨‍✈️🔥\"\n",
    "    },{\n",
    "        \"movie_title\": \"The Godfather\",\n",
    "        \"answer\": \"👨‍👨‍👦🔫🍝\"\n",
    "    },{\n",
    "        \"movie_title\": \"Titanic\",\n",
    "        \"answer\": \"🚢💑🧊\"\n",
    "    }\n",
    "]\n",
    "\n",
    "memory = ConversationSummaryBufferMemory(\n",
    "    llm= llm, # 사용되는 LLM\n",
    "    max_token_limit= 120, # 요약전 최대길이, 120토큰 초과시 요약한 정보\n",
    "    return_messages=True, #실제 메세지로 바꿔달라, 그냥 텍스트가 아닌\n",
    ")\n",
    "\n",
    "example_prompt = ChatPromptTemplate.from_messages([\n",
    "    (\"human\",\"Express this movie {movie_title} using emojis.\"),\n",
    "    (\"ai\",\"{answer}\")\n",
    "])\n",
    "\n",
    "few_shot_prompt = FewShotChatMessagePromptTemplate(\n",
    "    example_prompt=example_prompt,\n",
    "    examples=examples,\n",
    ")\n",
    "\n",
    "final_prompt = ChatPromptTemplate.from_messages([\n",
    "    (\"system\",\"You are an artist, answer Just using 3 emojis\"),\n",
    "    MessagesPlaceholder(variable_name=\"history\"),\n",
    "    few_shot_prompt,\n",
    "    (\"human\",\"Express this movie {movie_title} using emojis.\")\n",
    "])\n",
    "\n",
    "def load_memory(t):\n",
    "    return memory.load_memory_variables({})[\"history\"]\n",
    "\n",
    "chain = RunnablePassthrough.assign(history=load_memory) | final_prompt | llm\n",
    "\n",
    "def invoke_chain(movie_title):\n",
    "    result = chain.invoke(\n",
    "        {\n",
    "            \"movie_title\":movie_title\n",
    "        }\n",
    "    )\n",
    "    memory.save_context({\"input\":movie_title},{\"output\":result.content})\n",
    "    print(result)\n"
   ]
  },
  {
   "cell_type": "code",
   "execution_count": 26,
   "metadata": {},
   "outputs": [
    {
     "name": "stdout",
     "output_type": "stream",
     "text": [
      "🌎🌿💙content='🌎🌿💙'\n"
     ]
    }
   ],
   "source": [
    "invoke_chain(\"Avater\")"
   ]
  },
  {
   "cell_type": "code",
   "execution_count": 27,
   "metadata": {},
   "outputs": [
    {
     "name": "stdout",
     "output_type": "stream",
     "text": [
      "🏠👦🏼🎄content='🏠👦🏼🎄'\n"
     ]
    }
   ],
   "source": [
    "invoke_chain(\"나홀로집에\")"
   ]
  },
  {
   "cell_type": "code",
   "execution_count": 30,
   "metadata": {},
   "outputs": [
    {
     "data": {
      "text/plain": [
       "{'history': [HumanMessage(content='Avater'),\n",
       "  AIMessage(content='🌎🌿💙'),\n",
       "  HumanMessage(content='나홀로집에'),\n",
       "  AIMessage(content='🏠👦🏼🎄'),\n",
       "  HumanMessage(content='Avater'),\n",
       "  AIMessage(content='🌿🌌👽')]}"
      ]
     },
     "execution_count": 30,
     "metadata": {},
     "output_type": "execute_result"
    }
   ],
   "source": [
    "memory.load_memory_variables({})"
   ]
  },
  {
   "cell_type": "code",
   "execution_count": 29,
   "metadata": {},
   "outputs": [
    {
     "name": "stdout",
     "output_type": "stream",
     "text": [
      "🌿🌌👽content='🌿🌌👽'\n"
     ]
    }
   ],
   "source": [
    "invoke_chain(\"Avater\")"
   ]
  },
  {
   "cell_type": "code",
   "execution_count": 31,
   "metadata": {},
   "outputs": [
    {
     "name": "stdout",
     "output_type": "stream",
     "text": [
      "🏠👦🏼🎄"
     ]
    },
    {
     "data": {
      "text/plain": [
       "AIMessageChunk(content='🏠👦🏼🎄')"
      ]
     },
     "execution_count": 31,
     "metadata": {},
     "output_type": "execute_result"
    }
   ],
   "source": [
    "question_prompt = ChatPromptTemplate.from_messages([\n",
    "    (\"system\",\"You are an artist, answer Just using 3 emojis\"),\n",
    "    MessagesPlaceholder(variable_name=\"history\"),\n",
    "    (\"human\",\"What are {movie_title} emojis?\")\n",
    "])\n",
    "\n",
    "question_chain = RunnablePassthrough.assign(history=load_memory) | question_prompt | llm\n",
    "\n",
    "chain.invoke({\"movie_title\":\"나홀로집에\"})"
   ]
  }
 ],
 "metadata": {
  "kernelspec": {
   "display_name": "env",
   "language": "python",
   "name": "python3"
  },
  "language_info": {
   "codemirror_mode": {
    "name": "ipython",
    "version": 3
   },
   "file_extension": ".py",
   "mimetype": "text/x-python",
   "name": "python",
   "nbconvert_exporter": "python",
   "pygments_lexer": "ipython3",
   "version": "3.11.11"
  }
 },
 "nbformat": 4,
 "nbformat_minor": 2
}
