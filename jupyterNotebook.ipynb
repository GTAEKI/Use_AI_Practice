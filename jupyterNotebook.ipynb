{
 "cells": [
  {
   "cell_type": "code",
   "execution_count": 1,
   "metadata": {},
   "outputs": [
    {
     "name": "stderr",
     "output_type": "stream",
     "text": [
      "Created a chunk of size 682, which is longer than the specified 500\n",
      "Created a chunk of size 718, which is longer than the specified 500\n",
      "Created a chunk of size 614, which is longer than the specified 500\n",
      "Created a chunk of size 557, which is longer than the specified 500\n"
     ]
    }
   ],
   "source": [
    "from langchain.chat_models import ChatOpenAI\n",
    "from langchain.document_loaders import UnstructuredFileLoader\n",
    "from langchain.text_splitter import CharacterTextSplitter\n",
    "from langchain.vectorstores import Chroma\n",
    "from langchain.embeddings import OpenAIEmbeddings\n",
    "\n",
    "splitter = CharacterTextSplitter.from_tiktoken_encoder(\n",
    "    separator= \"\\n\\n\",\n",
    "    chunk_size = 500,\n",
    "    chunk_overlap = 50\n",
    ")\n",
    "\n",
    "loader = UnstructuredFileLoader(\"./files/chapter_one.txt\")\n",
    "\n",
    "docs = loader.load_and_split(text_splitter=splitter)\n",
    "\n",
    "embeddings = OpenAIEmbeddings()\n",
    "\n",
    "vectorstore = Chroma.from_documents(docs, embeddings)"
   ]
  },
  {
   "cell_type": "code",
   "execution_count": 3,
   "metadata": {},
   "outputs": [
    {
     "data": {
      "text/plain": [
       "[Document(page_content='1. 서론: 성공적인 커리어란 무엇인가? 현대 사회에서 커리어는 단순한 생계를 위한 수단이 아니라, 개인의 삶을 구성하는 중요한 요소 중 하나다. 성공적인 커리어란 단순히 높은 연봉이나 직급을 의미하는 것이 아니라, 자신의 역량을 극대화하고 만족감을 느끼며 지속적으로 성장하는 과정을 포함한다. 그러나 많은 사람들이 커리어를 계획하는 과정에서 명확한 전략 없이 기회에 의존하거나 단기적인 목표에 집중하는 경향이 있다. 본 글에서는 성공적인 커리어를 구축하기 위한 핵심 전략을 목표 설정, 자기 계발, 네트워크 관리, 그리고 도전과 실패를 기회로 삼는 법을 중심으로 살펴본다.', metadata={'source': './files/chapter_one.txt'}),\n",
       " Document(page_content='성공적인 커리어 전략: 목표 설정과 지속적인 성장의 중요성', metadata={'source': './files/chapter_one.txt'}),\n",
       " Document(page_content='3. 결론: 성공적인 커리어를 위한 실천 방법 성공적인 커리어는 단기적인 성과가 아니라, 장기적인 전략과 꾸준한 노력이 결합될 때 가능하다. 명확한 목표 설정, 지속적인 자기 계발, 의미 있는 네트워크 형성, 자기 브랜드 구축, 그리고 도전과 실패를 기회로 삼는 태도가 중요하다. 단순히 직업을 구하는 것이 아니라, 자신의 역량을 지속적으로 발전시키고 성장하는 것이 진정한 커리어 성공의 핵심이다. 결국, 중요한 것은 현재 위치가 아니라 앞으로 나아갈 방향이다. 꾸준한 노력과 전략적 사고를 바탕으로, 스스로 원하는 커리어를 개척해 나가는 것이야말로 진정한 성공이라고 할 수 있다.', metadata={'source': './files/chapter_one.txt'}),\n",
       " Document(page_content='실패를 분석하라: 단순히 좌절하는 것이 아니라, 실패의 원인을 분석하고 개선할 점을 찾는 것이 중요하다. 유연한 사고를 가져라: 변화에 적응하는 능력은 성공적인 커리어를 위한 필수 요소다. 예상치 못한 상황에서도 대안을 모색하는 태도를 가져야 한다. 도전을 즐겨라: 새로운 프로젝트, 직무 변경, 해외 근무 등 다양한 경험을 쌓는 것이 장기적으로 커리어에 긍정적인 영향을 미친다.', metadata={'source': './files/chapter_one.txt'})]"
      ]
     },
     "execution_count": 3,
     "metadata": {},
     "output_type": "execute_result"
    }
   ],
   "source": [
    "vectorstore.similarity_search(\"성공적인은 무엇인가?\")"
   ]
  }
 ],
 "metadata": {
  "kernelspec": {
   "display_name": "env",
   "language": "python",
   "name": "python3"
  },
  "language_info": {
   "codemirror_mode": {
    "name": "ipython",
    "version": 3
   },
   "file_extension": ".py",
   "mimetype": "text/x-python",
   "name": "python",
   "nbconvert_exporter": "python",
   "pygments_lexer": "ipython3",
   "version": "3.11.11"
  }
 },
 "nbformat": 4,
 "nbformat_minor": 2
}
