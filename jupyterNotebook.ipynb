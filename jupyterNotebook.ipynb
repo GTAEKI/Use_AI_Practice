{
 "cells": [
  {
   "cell_type": "code",
   "execution_count": 27,
   "metadata": {},
   "outputs": [
    {
     "data": {
      "text/plain": [
       "[Document(page_content='성공적인 커리어 전략: 목표 설정과 지속적인 성장의 중요성\\n\\n1. 서론: 성공적인 커리어란 무엇인가? 현대 사회에서 커리어는 단순한 생계를 위한 수단이 아니라, 개인의 삶을 구성하는 중요한 요소 중 하나다. 성공적인 커리어란 단순히 높은 연봉이나 직급을 의미하는 것이 아니라, 자신의 역량을 극대화하고 만족감을 느끼며 지속적으로 성장하는 과정을 포함한다. 그러나 많은 사람들이 커리어를 계획하는 과정에서 명확한 전략 없이 기회에 의존하거나 단기적인 목표에 집중하는 경향이 있다. 본 글에서는 성공적인 커리어를 구축하기 위한 핵심 전략을 목표 설정, 자기 계발, 네트워크 관리, 그리고 도전과 실패를 기회로 삼는 법을 중심으로 살펴본다.\\n\\n2. 본론: 성공적인 커리어 전략 1) 목표 설정과 방향성 성공적인 커리어를 위해서는 명확한 목표 설정이 필수적이다. 목표가 없는 커리어는 목적지 없이 떠도는 배와 같다. 목표를 설정할 때는 다음과 같은 SMART 원칙을 적용하는 것이 효과적이다.', metadata={'source': './files/chapter_one.txt'}),\n",
       " Document(page_content='Specific (구체적일 것): 목표는 명확해야 한다. \"더 좋은 직업을 얻고 싶다\"보다는 \"3 년 내에 데이터 분석 전문가로 성장하고 싶다\"와 같이 구체적인 목표를 설정해야 한다. Measurable (측정 가능할 것): 목표의 성취도를 평가할 수 있어야 한다. 예를 들어, \"올해 안에 프로그래밍 관련 자격증 2 개를 취득한다\"처럼 수치화할 수 있는 목표가 바람직하다. Achievable (달성 가능할 것): 현실적인 목표를 설정해야 한다. 너무 높은 목표는 좌절감을 줄 수 있다. Relevant (관련성이 있을 것): 목표는 자신의 장기적인 커리어 계획과 연관되어야 한다. Time-bound (기한이 있을 것): 목표를 달성할 수 있는 기한을 정해야 한다. \"5 년 후에는 팀 리더가 된다\"처럼 시점을 설정하는 것이 중요하다.', metadata={'source': './files/chapter_one.txt'}),\n",
       " Document(page_content=\"목표 설정 후에는 이를 달성하기 위한 세부 계획을 수립하고, 필요할 경우 지속적으로 수정해야 한다. 또한 목표를 이루는 과정에서 단기적인 성취와 장기적인 비전을 조화롭게 설정하는 것이 중요하다. 2️) 지속적인 자기 계발과 학습 현대 사회에서는 기술과 산업이 빠르게 변화하고 있기 때문에 지속적인 자기 계발이 필수적이다. 과거에는 하나의 직업을 평생 유지하는 것이 일반적이었지만, 현재는 한\\n\\n사람이 여러 직업을 거치는 '커리어 포트폴리오' 개념이 확산되고 있다. 따라서 다음과 같은 학습 전략을 적용하는 것이 중요하다.\", metadata={'source': './files/chapter_one.txt'}),\n",
       " Document(page_content='전문 지식 습득: 자신이 속한 산업과 관련된 최신 기술 및 트렌드를 학습해야 한다. 온라인 강의, 세미나, 도서 등을 활용하여 지속적으로 배우는 자세가 필요하다. 소프트 스킬 개발: 기술적인 능력뿐만 아니라 커뮤니케이션, 협업, 문제 해결 능력과 같은 소프트 스킬도 필수적이다. 이는 조직 내에서 리더십을 발휘하는 데 중요한 역할을 한다. 경험을 통한 학습: 단순히 이론을 공부하는 것뿐만 아니라, 실제 프로젝트나 현장에서 경험을 쌓는 것이 중요하다. 이를 통해 실무 능력을 향상시키고, 자신만의 경쟁력을 구축할 수 있다.\\n\\n3) 네트워크와 인맥 관리 성공적인 커리어를 구축하기 위해서는 강력한 네트워크가 필수적이다. 네트워킹은 단순히 많은 사람을 아는 것이 아니라, 의미 있는 관계를 형성하고 유지하는 것을 의미한다.', metadata={'source': './files/chapter_one.txt'}),\n",
       " Document(page_content='멘토를 찾아라: 경력이 풍부한 선배나 업계 전문가를 멘토로 삼으면, 보다 빠르게 성장할 수 있다. 업계 행사 및 커뮤니티 참여: 컨퍼런스, 세미나, 온라인 포럼 등에 적극 참여하여 인맥을 넓히고, 새로운 기회를 모색해야 한다. 전문성을 공유하라: 블로그, SNS, 강연 등을 통해 자신의 경험과 지식을 공유하면 자연스럽게 전문가로서의 입지를 구축할 수 있다.\\n\\n4) 도전과 실패를 기회로 만드는 법 커리어를 쌓아가는 과정에서 실패는 피할 수 없는 요소다. 중요한 것은 실패를 어떻게 받아들이고, 이를 성장의 기회로 삼느냐이다.', metadata={'source': './files/chapter_one.txt'}),\n",
       " Document(page_content='실패를 분석하라: 단순히 좌절하는 것이 아니라, 실패의 원인을 분석하고 개선할 점을 찾는 것이 중요하다. 유연한 사고를 가져라: 변화에 적응하는 능력은 성공적인 커리어를 위한 필수 요소다. 예상치 못한 상황에서도 대안을 모색하는 태도를 가져야 한다. 도전을 즐겨라: 새로운 프로젝트, 직무 변경, 해외 근무 등 다양한 경험을 쌓는 것이 장기적으로 커리어에 긍정적인 영향을 미친다.\\n\\n5) 자기 브랜드 구축과 차별화 전략 현대 사회에서는 개인의 브랜드가 곧 경쟁력이 된다. 자기 브랜드를 효과적으로 구축하는 것은 커리어 성장에 중요한 역할을 한다.', metadata={'source': './files/chapter_one.txt'}),\n",
       " Document(page_content='전문 분야를 명확히 하라: 자신이 강점을 가진 분야를 명확하게 정의하고, 이를 지속적으로 개발해야 한다. 온라인 포트폴리오를 운영하라: 블로그, SNS, GitHub, LinkedIn 과 같은 플랫폼을 활용하여 자신의 전문성을 보여줄 수 있도록 한다. 지속적인 학습과 콘텐츠 공유: 자신이 배운 내용을 정리하고 공유하는 습관을 가지면 자연스럽게 전문가로서의 인식이 형성된다. 업계 내 영향력 구축: 컨퍼런스 발표, 논문 작성, 강연 등을 통해 자신의 이름을 알리고, 업계 내에서 신뢰를 구축해야 한다.', metadata={'source': './files/chapter_one.txt'}),\n",
       " Document(page_content='3. 결론: 성공적인 커리어를 위한 실천 방법 성공적인 커리어는 단기적인 성과가 아니라, 장기적인 전략과 꾸준한 노력이 결합될 때 가능하다. 명확한 목표 설정, 지속적인 자기 계발, 의미 있는 네트워크 형성, 자기 브랜드 구축, 그리고 도전과 실패를 기회로 삼는 태도가 중요하다. 단순히 직업을 구하는 것이 아니라, 자신의 역량을 지속적으로 발전시키고 성장하는 것이 진정한 커리어 성공의 핵심이다. 결국, 중요한 것은 현재 위치가 아니라 앞으로 나아갈 방향이다. 꾸준한 노력과 전략적 사고를 바탕으로, 스스로 원하는 커리어를 개척해 나가는 것이야말로 진정한 성공이라고 할 수 있다.', metadata={'source': './files/chapter_one.txt'})]"
      ]
     },
     "execution_count": 27,
     "metadata": {},
     "output_type": "execute_result"
    }
   ],
   "source": [
    "from langchain.chat_models import ChatOpenAI\n",
    "from langchain.document_loaders import UnstructuredFileLoader\n",
    "from langchain.text_splitter import RecursiveCharacterTextSplitter, CharacterTextSplitter\n",
    "\n",
    "splitter = CharacterTextSplitter(\n",
    "    separator= \"\\n\\n\",\n",
    "    chunk_size = 500,\n",
    "    chunk_overlap = 50\n",
    ")\n",
    "\n",
    "# splitter = RecursiveCharacterTextSplitter(\n",
    "#     chunk_size = 200,\n",
    "#     chunk_overlap = 50 # 문장이나 문단 분할할때 앞 조각 일부분을 가져온다.\n",
    "# )\n",
    "\n",
    "loader = UnstructuredFileLoader(\"./files/chapter_one.txt\")\n",
    "\n",
    "loader.load_and_split(text_splitter=splitter)"
   ]
  }
 ],
 "metadata": {
  "kernelspec": {
   "display_name": "env",
   "language": "python",
   "name": "python3"
  },
  "language_info": {
   "codemirror_mode": {
    "name": "ipython",
    "version": 3
   },
   "file_extension": ".py",
   "mimetype": "text/x-python",
   "name": "python",
   "nbconvert_exporter": "python",
   "pygments_lexer": "ipython3",
   "version": "3.11.11"
  }
 },
 "nbformat": 4,
 "nbformat_minor": 2
}
